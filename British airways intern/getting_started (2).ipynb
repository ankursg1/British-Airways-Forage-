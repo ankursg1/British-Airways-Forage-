{
 "cells": [
  {
   "cell_type": "markdown",
   "metadata": {},
   "source": [
    "# Task 1\n",
    "\n",
    "---\n",
    "\n",
    "## Web scraping and analysis\n",
    "\n",
    "This Jupyter notebook includes some code to get you started with web scraping. We will use a package called `BeautifulSoup` to collect the data from the web. Once you've collected your data and saved it into a local `.csv` file you should start with your analysis.\n",
    "\n",
    "### Scraping data from Skytrax\n",
    "\n",
    "If you visit [https://www.airlinequality.com] you can see that there is a lot of data there. For this task, we are only interested in reviews related to British Airways and the Airline itself.\n",
    "\n",
    "If you navigate to this link: [https://www.airlinequality.com/airline-reviews/british-airways] you will see this data. Now, we can use `Python` and `BeautifulSoup` to collect all the links to the reviews and then to collect the text data on each of the individual review links."
   ]
  },
  {
   "cell_type": "code",
   "execution_count": 41,
   "metadata": {},
   "outputs": [],
   "source": [
    "import requests\n",
    "from bs4 import BeautifulSoup\n",
    "import pandas as pd\n",
    "import string\n",
    "import seaborn as sns\n",
    "import matplotlib.pyplot as plt"
   ]
  },
  {
   "cell_type": "code",
   "execution_count": 42,
   "metadata": {},
   "outputs": [
    {
     "name": "stdout",
     "output_type": "stream",
     "text": [
      "Scraping page 1\n",
      "   ---> 100 total reviews\n",
      "Scraping page 2\n",
      "   ---> 200 total reviews\n",
      "Scraping page 3\n",
      "   ---> 300 total reviews\n",
      "Scraping page 4\n",
      "   ---> 400 total reviews\n",
      "Scraping page 5\n",
      "   ---> 500 total reviews\n",
      "Scraping page 6\n",
      "   ---> 600 total reviews\n",
      "Scraping page 7\n",
      "   ---> 700 total reviews\n",
      "Scraping page 8\n",
      "   ---> 800 total reviews\n",
      "Scraping page 9\n",
      "   ---> 900 total reviews\n",
      "Scraping page 10\n",
      "   ---> 1000 total reviews\n",
      "Scraping page 11\n",
      "   ---> 1100 total reviews\n",
      "Scraping page 12\n",
      "   ---> 1200 total reviews\n",
      "Scraping page 13\n",
      "   ---> 1300 total reviews\n",
      "Scraping page 14\n",
      "   ---> 1400 total reviews\n",
      "Scraping page 15\n",
      "   ---> 1500 total reviews\n",
      "Scraping page 16\n",
      "   ---> 1600 total reviews\n",
      "Scraping page 17\n",
      "   ---> 1700 total reviews\n",
      "Scraping page 18\n",
      "   ---> 1800 total reviews\n",
      "Scraping page 19\n",
      "   ---> 1900 total reviews\n",
      "Scraping page 20\n",
      "   ---> 2000 total reviews\n",
      "Scraping page 21\n",
      "   ---> 2100 total reviews\n",
      "Scraping page 22\n",
      "   ---> 2200 total reviews\n",
      "Scraping page 23\n",
      "   ---> 2300 total reviews\n",
      "Scraping page 24\n",
      "   ---> 2400 total reviews\n",
      "Scraping page 25\n",
      "   ---> 2500 total reviews\n",
      "Scraping page 26\n",
      "   ---> 2600 total reviews\n",
      "Scraping page 27\n",
      "   ---> 2700 total reviews\n",
      "Scraping page 28\n",
      "   ---> 2800 total reviews\n",
      "Scraping page 29\n",
      "   ---> 2900 total reviews\n",
      "Scraping page 30\n",
      "   ---> 3000 total reviews\n",
      "Scraping page 31\n",
      "   ---> 3100 total reviews\n",
      "Scraping page 32\n",
      "   ---> 3200 total reviews\n",
      "Scraping page 33\n",
      "   ---> 3300 total reviews\n",
      "Scraping page 34\n",
      "   ---> 3400 total reviews\n",
      "Scraping page 35\n",
      "   ---> 3500 total reviews\n",
      "Scraping page 36\n",
      "   ---> 3600 total reviews\n",
      "Scraping page 37\n",
      "   ---> 3696 total reviews\n",
      "Scraping page 38\n",
      "   ---> 3696 total reviews\n",
      "Scraping page 39\n",
      "   ---> 3696 total reviews\n",
      "Scraping page 40\n",
      "   ---> 3696 total reviews\n",
      "Scraping page 41\n",
      "   ---> 3696 total reviews\n",
      "Scraping page 42\n",
      "   ---> 3696 total reviews\n",
      "Scraping page 43\n",
      "   ---> 3696 total reviews\n",
      "Scraping page 44\n",
      "   ---> 3696 total reviews\n",
      "Scraping page 45\n",
      "   ---> 3696 total reviews\n",
      "Scraping page 46\n",
      "   ---> 3696 total reviews\n",
      "Scraping page 47\n",
      "   ---> 3696 total reviews\n",
      "Scraping page 48\n",
      "   ---> 3696 total reviews\n",
      "Scraping page 49\n",
      "   ---> 3696 total reviews\n",
      "Scraping page 50\n",
      "   ---> 3696 total reviews\n",
      "Scraping page 51\n",
      "   ---> 3696 total reviews\n",
      "Scraping page 52\n",
      "   ---> 3696 total reviews\n",
      "Scraping page 53\n",
      "   ---> 3696 total reviews\n",
      "Scraping page 54\n",
      "   ---> 3696 total reviews\n",
      "Scraping page 55\n",
      "   ---> 3696 total reviews\n",
      "Scraping page 56\n",
      "   ---> 3696 total reviews\n",
      "Scraping page 57\n",
      "   ---> 3696 total reviews\n",
      "Scraping page 58\n",
      "   ---> 3696 total reviews\n",
      "Scraping page 59\n",
      "   ---> 3696 total reviews\n",
      "Scraping page 60\n",
      "   ---> 3696 total reviews\n",
      "Scraping page 61\n",
      "   ---> 3696 total reviews\n",
      "Scraping page 62\n",
      "   ---> 3696 total reviews\n",
      "Scraping page 63\n",
      "   ---> 3696 total reviews\n",
      "Scraping page 64\n",
      "   ---> 3696 total reviews\n",
      "Scraping page 65\n",
      "   ---> 3696 total reviews\n",
      "Scraping page 66\n",
      "   ---> 3696 total reviews\n",
      "Scraping page 67\n",
      "   ---> 3696 total reviews\n",
      "Scraping page 68\n",
      "   ---> 3696 total reviews\n",
      "Scraping page 69\n",
      "   ---> 3696 total reviews\n",
      "Scraping page 70\n",
      "   ---> 3696 total reviews\n",
      "Scraping page 71\n",
      "   ---> 3696 total reviews\n",
      "Scraping page 72\n",
      "   ---> 3696 total reviews\n",
      "Scraping page 73\n",
      "   ---> 3696 total reviews\n",
      "Scraping page 74\n",
      "   ---> 3696 total reviews\n",
      "Scraping page 75\n",
      "   ---> 3696 total reviews\n",
      "Scraping page 76\n",
      "   ---> 3696 total reviews\n",
      "Scraping page 77\n",
      "   ---> 3696 total reviews\n",
      "Scraping page 78\n",
      "   ---> 3696 total reviews\n",
      "Scraping page 79\n",
      "   ---> 3696 total reviews\n",
      "Scraping page 80\n",
      "   ---> 3696 total reviews\n",
      "Scraping page 81\n",
      "   ---> 3696 total reviews\n",
      "Scraping page 82\n",
      "   ---> 3696 total reviews\n",
      "Scraping page 83\n",
      "   ---> 3696 total reviews\n",
      "Scraping page 84\n",
      "   ---> 3696 total reviews\n",
      "Scraping page 85\n",
      "   ---> 3696 total reviews\n",
      "Scraping page 86\n",
      "   ---> 3696 total reviews\n",
      "Scraping page 87\n",
      "   ---> 3696 total reviews\n",
      "Scraping page 88\n",
      "   ---> 3696 total reviews\n",
      "Scraping page 89\n",
      "   ---> 3696 total reviews\n",
      "Scraping page 90\n",
      "   ---> 3696 total reviews\n",
      "Scraping page 91\n",
      "   ---> 3696 total reviews\n",
      "Scraping page 92\n",
      "   ---> 3696 total reviews\n",
      "Scraping page 93\n",
      "   ---> 3696 total reviews\n",
      "Scraping page 94\n",
      "   ---> 3696 total reviews\n",
      "Scraping page 95\n",
      "   ---> 3696 total reviews\n",
      "Scraping page 96\n",
      "   ---> 3696 total reviews\n",
      "Scraping page 97\n",
      "   ---> 3696 total reviews\n",
      "Scraping page 98\n",
      "   ---> 3696 total reviews\n",
      "Scraping page 99\n",
      "   ---> 3696 total reviews\n",
      "Scraping page 100\n",
      "   ---> 3696 total reviews\n"
     ]
    }
   ],
   "source": [
    "base_url = \"https://www.airlinequality.com/airline-reviews/british-airways/\"\n",
    "pages = 100\n",
    "page_size = 100\n",
    "\n",
    "reviews = []\n",
    "\n",
    "# for i in range(1, pages + 1):\n",
    "for i in range(1, pages + 1):\n",
    "\n",
    "    print(f\"Scraping page {i}\")\n",
    "\n",
    "    # Create URL to collect links from paginated data\n",
    "    url = f\"{base_url}/page/{i}/?sortby=post_date%3ADesc&pagesize={page_size}\"\n",
    "\n",
    "    # Collect HTML data from this page\n",
    "    response = requests.get(url)\n",
    "\n",
    "    # Parse content\n",
    "    content = response.content\n",
    "    parsed_content = BeautifulSoup(content, 'html.parser')\n",
    "    for para in parsed_content.find_all(\"div\", {\"class\": \"text_content\"}):\n",
    "        reviews.append(para.get_text())\n",
    "    \n",
    "    print(f\"   ---> {len(reviews)} total reviews\")"
   ]
  },
  {
   "cell_type": "code",
   "execution_count": 43,
   "metadata": {},
   "outputs": [
    {
     "data": {
      "text/html": [
       "<div>\n",
       "<style scoped>\n",
       "    .dataframe tbody tr th:only-of-type {\n",
       "        vertical-align: middle;\n",
       "    }\n",
       "\n",
       "    .dataframe tbody tr th {\n",
       "        vertical-align: top;\n",
       "    }\n",
       "\n",
       "    .dataframe thead th {\n",
       "        text-align: right;\n",
       "    }\n",
       "</style>\n",
       "<table border=\"1\" class=\"dataframe\">\n",
       "  <thead>\n",
       "    <tr style=\"text-align: right;\">\n",
       "      <th></th>\n",
       "      <th>reviews</th>\n",
       "    </tr>\n",
       "  </thead>\n",
       "  <tbody>\n",
       "    <tr>\n",
       "      <th>0</th>\n",
       "      <td>✅ Trip Verified |  Booked a flight from Buchar...</td>\n",
       "    </tr>\n",
       "    <tr>\n",
       "      <th>1</th>\n",
       "      <td>✅ Trip Verified |  Booked online months ago an...</td>\n",
       "    </tr>\n",
       "    <tr>\n",
       "      <th>2</th>\n",
       "      <td>✅ Trip Verified |  The flight was on time. The...</td>\n",
       "    </tr>\n",
       "    <tr>\n",
       "      <th>3</th>\n",
       "      <td>Not Verified |  Angry, disappointed, and unsat...</td>\n",
       "    </tr>\n",
       "    <tr>\n",
       "      <th>4</th>\n",
       "      <td>✅ Trip Verified |  As an infrequent flyer, Bri...</td>\n",
       "    </tr>\n",
       "    <tr>\n",
       "      <th>...</th>\n",
       "      <td>...</td>\n",
       "    </tr>\n",
       "    <tr>\n",
       "      <th>95</th>\n",
       "      <td>✅ Trip Verified | Another really great pair of...</td>\n",
       "    </tr>\n",
       "    <tr>\n",
       "      <th>96</th>\n",
       "      <td>Not Verified |  Our A380 developed a fault tax...</td>\n",
       "    </tr>\n",
       "    <tr>\n",
       "      <th>97</th>\n",
       "      <td>Not Verified | Horrible airline. Does not care...</td>\n",
       "    </tr>\n",
       "    <tr>\n",
       "      <th>98</th>\n",
       "      <td>✅ Trip Verified |  My family and I have flown ...</td>\n",
       "    </tr>\n",
       "    <tr>\n",
       "      <th>99</th>\n",
       "      <td>✅ Trip Verified |  This has been by far the wo...</td>\n",
       "    </tr>\n",
       "  </tbody>\n",
       "</table>\n",
       "<p>100 rows × 1 columns</p>\n",
       "</div>"
      ],
      "text/plain": [
       "                                              reviews\n",
       "0   ✅ Trip Verified |  Booked a flight from Buchar...\n",
       "1   ✅ Trip Verified |  Booked online months ago an...\n",
       "2   ✅ Trip Verified |  The flight was on time. The...\n",
       "3   Not Verified |  Angry, disappointed, and unsat...\n",
       "4   ✅ Trip Verified |  As an infrequent flyer, Bri...\n",
       "..                                                ...\n",
       "95  ✅ Trip Verified | Another really great pair of...\n",
       "96  Not Verified |  Our A380 developed a fault tax...\n",
       "97  Not Verified | Horrible airline. Does not care...\n",
       "98  ✅ Trip Verified |  My family and I have flown ...\n",
       "99  ✅ Trip Verified |  This has been by far the wo...\n",
       "\n",
       "[100 rows x 1 columns]"
      ]
     },
     "execution_count": 43,
     "metadata": {},
     "output_type": "execute_result"
    }
   ],
   "source": [
    "df = pd.DataFrame()\n",
    "df[\"reviews\"] = reviews\n",
    "df.head(100)"
   ]
  },
  {
   "cell_type": "code",
   "execution_count": 44,
   "metadata": {},
   "outputs": [],
   "source": [
    "df.to_csv(\"data/BA_reviews.csv\")"
   ]
  },
  {
   "cell_type": "code",
   "execution_count": 45,
   "metadata": {},
   "outputs": [
    {
     "data": {
      "text/plain": [
       "0      ✅ Trip Verified |  Booked a flight from Buchar...\n",
       "1      ✅ Trip Verified |  Booked online months ago an...\n",
       "2      ✅ Trip Verified |  The flight was on time. The...\n",
       "3      Not Verified |  Angry, disappointed, and unsat...\n",
       "4      ✅ Trip Verified |  As an infrequent flyer, Bri...\n",
       "                             ...                        \n",
       "995    ✅ Trip Verified |  \\r\\nVenice to London City. ...\n",
       "996    ✅ Trip Verified |  San Francisco to London. Te...\n",
       "997    ✅ Trip Verified |  Heathrow to Vancouver. The ...\n",
       "998    ✅ Trip Verified |  London to Bucharest. First ...\n",
       "999    ✅ Trip Verified |  I forgot I had purchased a ...\n",
       "Name: reviews, Length: 1000, dtype: object"
      ]
     },
     "execution_count": 45,
     "metadata": {},
     "output_type": "execute_result"
    }
   ],
   "source": [
    "reviews = pd.read_csv('BA_reviews.csv')\n",
    "reviews = reviews.pop('reviews')\n",
    "reviews"
   ]
  },
  {
   "cell_type": "markdown",
   "metadata": {},
   "source": [
    "Congratulations! Now you have your dataset for this task! The loops above collected 1000 reviews by iterating through the paginated pages on the website. However, if you want to collect more data, try increasing the number of pages!\n",
    "\n",
    " The next thing that you should do is clean this data to remove any unnecessary text from each of the rows. For example, \"✅ Trip Verified\" can be removed from each row if it exists, as it's not relevant to what we want to investigate."
   ]
  },
  {
   "cell_type": "code",
   "execution_count": 46,
   "metadata": {},
   "outputs": [],
   "source": [
    "def string_punctuation(text):\n",
    "    for punctuation in string.punctuation:\n",
    "        text  = text.replace(punctuation , '')\n",
    "        return text"
   ]
  },
  {
   "cell_type": "code",
   "execution_count": 47,
   "metadata": {},
   "outputs": [
    {
     "name": "stderr",
     "output_type": "stream",
     "text": [
      "C:\\Users\\Ankur\\AppData\\Local\\Temp\\ipykernel_21584\\3348410112.py:1: FutureWarning: The default value of regex will change from True to False in a future version.\n",
      "  reviews = reviews.str.replace('Trip Verified |' , '')\n",
      "C:\\Users\\Ankur\\AppData\\Local\\Temp\\ipykernel_21584\\3348410112.py:3: FutureWarning: The default value of regex will change from True to False in a future version. In addition, single character regular expressions will *not* be treated as literal strings when regex=True.\n",
      "  reviews = reviews.str.replace('|' , '')\n",
      "C:\\Users\\Ankur\\AppData\\Local\\Temp\\ipykernel_21584\\3348410112.py:6: FutureWarning: The default value of regex will change from True to False in a future version.\n",
      "  reviews = reviews.str.replace(r'\\b(\\w{1,3)\\b}' , '')\n"
     ]
    },
    {
     "data": {
      "text/plain": [
       "0         Booked a flight from Bucharest to Mancheste...\n",
       "1         Booked online months ago and the only hitch...\n",
       "2         The flight was on time. The crew were polit...\n",
       "3      Not Verified   Angry, disappointed, and unsati...\n",
       "4         As an infrequent flyer, British Airways was...\n",
       "                             ...                        \n",
       "995       Venice to London City. Really we had a grea...\n",
       "996       San Francisco to London. Terrible service a...\n",
       "997       Heathrow to Vancouver. The seats booked not...\n",
       "998       London to Bucharest. First class ground sta...\n",
       "999       I forgot I had purchased a hand baggage onl...\n",
       "Name: reviews, Length: 1000, dtype: object"
      ]
     },
     "execution_count": 47,
     "metadata": {},
     "output_type": "execute_result"
    }
   ],
   "source": [
    "reviews = reviews.str.replace('Trip Verified |' , '')\n",
    "reviews = reviews.str.replace('✅' , '')\n",
    "reviews = reviews.str.replace('|' , '')\n",
    "reviews = reviews.str.replace('\\n' , '')\n",
    "reviews = reviews.str.replace('\\r' , '')\n",
    "reviews = reviews.str.replace(r'\\b(\\w{1,3)\\b}' , '')\n",
    "reviews = reviews.apply(string_punctuation)\n",
    "reviews\n"
   ]
  },
  {
   "cell_type": "code",
   "execution_count": 48,
   "metadata": {},
   "outputs": [
    {
     "data": {
      "text/plain": [
       "(1000,)"
      ]
     },
     "execution_count": 48,
     "metadata": {},
     "output_type": "execute_result"
    }
   ],
   "source": [
    "reviews.shape"
   ]
  },
  {
   "cell_type": "code",
   "execution_count": 49,
   "metadata": {},
   "outputs": [
    {
     "data": {
      "text/plain": [
       "the        7148\n",
       "to         5203\n",
       "and        4365\n",
       "was        3212\n",
       "a          3164\n",
       "i          2975\n",
       "of         1953\n",
       "in         1915\n",
       "on         1733\n",
       "for        1666\n",
       "flight     1455\n",
       "with       1325\n",
       "my         1303\n",
       "not        1294\n",
       "we         1227\n",
       "that       1134\n",
       "they       1119\n",
       "is         1065\n",
       "were       1020\n",
       "at         1003\n",
       "ba          978\n",
       "it          975\n",
       "had         917\n",
       "but         900\n",
       "have        833\n",
       "this        830\n",
       "no          783\n",
       "as          725\n",
       "from        706\n",
       "very        574\n",
       "our         566\n",
       "me          562\n",
       "an          547\n",
       "service     537\n",
       "so          511\n",
       "be          504\n",
       "you         494\n",
       "are         477\n",
       "there       417\n",
       "british     412\n",
       "when        404\n",
       "london      399\n",
       "which       394\n",
       "food        393\n",
       "one         392\n",
       "crew        386\n",
       "their       378\n",
       "by          375\n",
       "after       367\n",
       "seat        366\n",
       "dtype: int64"
      ]
     },
     "execution_count": 49,
     "metadata": {},
     "output_type": "execute_result"
    }
   ],
   "source": [
    "freq_words = pd.Series(' '.join(reviews).lower().split()).value_counts()[:50]\n",
    "freq_words"
   ]
  },
  {
   "cell_type": "code",
   "execution_count": 50,
   "metadata": {},
   "outputs": [
    {
     "data": {
      "image/png": "[encoded data removed]",
      "text/plain": [
       "<Figure size 1000x1000 with 1 Axes>"
      ]
     },
     "metadata": {},
     "output_type": "display_data"
    }
   ],
   "source": [
    "plt.figure(figsize=(10,10))\n",
    "freq_words.plot.barh(x= freq_words[0] , y= freq_words[1])\n",
    "plt.show()"
   ]
  },
  {
   "cell_type": "markdown",
   "metadata": {},
   "source": [
    "##"
   ]
  },
  {
   "cell_type": "code",
   "execution_count": null,
   "metadata": {},
   "outputs": [],
   "source": []
  }
 ],
 "metadata": {
  "kernelspec": {
   "display_name": "Python 3.9.13 ('venv': venv)",
   "language": "python",
   "name": "python3"
  },
  "language_info": {
   "codemirror_mode": {
    "name": "ipython",
    "version": 3
   },
   "file_extension": ".py",
   "mimetype": "text/x-python",
   "name": "python",
   "nbconvert_exporter": "python",
   "pygments_lexer": "ipython3",
   "version": "3.10.0"
  },
  "orig_nbformat": 4,
  "vscode": {
   "interpreter": {
    "hash": "4f7924c4c56b083e0e50eadfe7ef592a7a8ef70df33a0047f82280e6be1afe15"
   }
  }
 },
 "nbformat": 4,
 "nbformat_minor": 2
}
